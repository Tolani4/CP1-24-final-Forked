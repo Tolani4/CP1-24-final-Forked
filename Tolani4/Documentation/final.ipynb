{
 "cells": [
  {
   "cell_type": "markdown",
   "metadata": {},
   "source": [
    "## How to Run the Code\n",
    "- Install requirements: `pip install -r requirements.txt`\n",
    "- Run tests: `pytest test_final.py`\n",
    "- Example usage is provided in this notebook.\n",
    "\n",
    "## Bibliography\n",
    "- https://numpy.org/\n",
    "- https://matplotlib.org/\n"
   ]
  },
  {
   "cell_type": "code",
   "execution_count": null,
   "metadata": {
    "vscode": {
     "languageId": "plaintext"
    }
   },
   "outputs": [],
   "source": [
    "import pandas as pd\n",
    "import numpy as np\n",
    "import matplotlib.pyplot as plt\n",
    "from final import *\n",
    "\n",
    "# Load one experiment\n",
    "df = pd.read_csv(\"../data/LL001_sinewalk_1.csv\")\n",
    "x, y = df[\"x\"], df[\"y\"]\n",
    "\n",
    "# Nonlinear fit\n",
    "coeffs = nonlinear_fit(x, y)\n",
    "y_fit = np.polyval(coeffs, x)\n",
    "\n",
    "# Plot Sine Walk\n",
    "plt.figure()\n",
    "plt.plot(x, y, label=\"Data\")\n",
    "plt.plot(x, y_fit, label=\"Non-linear Fit\")\n",
    "plt.xlabel(\"X (m)\")\n",
    "plt.ylabel(\"Y (m)\")\n",
    "plt.legend()\n",
    "plt.title(\"Sine Walk with Non-linear Fit\")\n",
    "plt.show()\n"
   ]
  },
  {
   "cell_type": "code",
   "execution_count": null,
   "metadata": {
    "vscode": {
     "languageId": "plaintext"
    }
   },
   "outputs": [],
   "source": [
    "fft_result = fft_numpy(df.to_numpy())\n",
    "plt.plot(fft_result.real)\n",
    "plt.title(\"FFT of Sine Walk\")\n",
    "plt.show()\n"
   ]
  }
 ],
 "metadata": {
  "language_info": {
   "name": "python"
  }
 },
 "nbformat": 4,
 "nbformat_minor": 2
}
